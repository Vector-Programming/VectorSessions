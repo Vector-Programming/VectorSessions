{
 "cells": [
  {
   "cell_type": "markdown",
   "metadata": {},
   "source": [
    "# Classes And Objects\n",
    "\n",
    "**Fundamental Language Principles. **\n",
    "\n",
    "Presented By: **Param Kapur**  \n",
    "*11-J, Vector, DPS Gurgaon*"
   ]
  },
  {
   "cell_type": "markdown",
   "metadata": {},
   "source": [
    " \n",
    "## Pre-requisite Information: \n",
    "* Install the 'PyGame' liblary, to see your object.  \n",
    "### What are classes?\n",
    "* A **class**, in *object-oriented programing*, is a code template for creating objects. The template contains some basic characteristics/intial values and implementations of behaviour of an object.  \n",
    "### What are objects?\n",
    "* An **object** refers to a particular instance of a class, where the oject can be a combination of Variables, functions(methods) and data structures. Really an object is just a data type with Polymorphism and Inheritance (Wikipedia them) \n",
    "### What is object-oriented programming(OOP)?\n",
    "* OOP is a programming paradigm based on the concept of objects, which may contain contain data(characteristics) and code in the form of procedures(behaviours) known as methods.  \n",
    "\n",
    "\n",
    "This will quickly pull turn into a Wikipedia article, so please go checkout all of these term's Wiki pages for more information."
   ]
  },
  {
   "cell_type": "markdown",
   "metadata": {},
   "source": [
    "\n",
    "\n",
    "\n",
    "_Let's imagine that we're creating a video game and we have to define a character in code:_"
   ]
  },
  {
   "cell_type": "code",
   "execution_count": 1,
   "metadata": {},
   "outputs": [
    {
     "name": "stdout",
     "output_type": "stream",
     "text": [
      "Name: Dora Sex: Male Health: 100\n"
     ]
    }
   ],
   "source": [
    "name = \"Dora\"\n",
    "sex = \"Male\"\n",
    "health = 100\n",
    "def character(name, sex, health):\n",
    "    print(\"Name:\", name, \"Sex:\", sex, \"Health:\", health)\n",
    "character(name, sex, health)"
   ]
  },
  {
   "cell_type": "markdown",
   "metadata": {},
   "source": [
    "**_SO_**,  \n",
    "To add more properties, or to change existing ones, we have to define a variable, then update the function and then update the function call. This is cumbersome and not scalable, especially with a ton of game characters. Thus, we'll use classes to organize and create our characters.   \n",
    "**_NOW_**, **The same thing with classes looks like this:**"
   ]
  },
  {
   "cell_type": "code",
   "execution_count": 2,
   "metadata": {},
   "outputs": [
    {
     "name": "stdout",
     "output_type": "stream",
     "text": [
      "State Name Level Max_Health Current_Health Current_Speed\n",
      "Before: Dora 6 100 75 50\n",
      "Before: Swiper 3 150 100 50\n",
      "After Activity: Dora 6 100 55 75\n",
      "After Activity: Swiper 4 200 80 50\n"
     ]
    }
   ],
   "source": [
    "class Character():\n",
    "    def __init__(self): # Creating a dunder method, that will intialize everytime an object is created. (Constructor Function)\n",
    "        self.name = \"\" # Creates empty string\n",
    "        self.sex = \"\"\n",
    "        self.level = 0 \n",
    "        self.max_health = int() # Sets self.max_health to an 'empty'(0) int.\n",
    "        self.current_health = int()\n",
    "        self.max_speed = 100 # Just for sawg.\n",
    "        self.current_speed = int()\n",
    "    \n",
    "    #These are methods that describe behaviours of the characters. \n",
    "    def sprint(self):\n",
    "        self.current_speed += 25\n",
    "        \n",
    "    def is_hurt(self):\n",
    "        self.current_health -= 20\n",
    "    \n",
    "    def levels_up(self):\n",
    "        self.max_health += 50\n",
    "        self.level += 1\n",
    "\n",
    "        \n",
    "# The above class provides a template where we can create multiple objects or characters in our case.\n",
    "# Now we can create objects from the class. (Create a painting from the template we made above.)\n",
    "print(\"State\", \"Name\", \"Level\", \"Max_Health\", \"Current_Health\", \"Current_Speed\") #Ignore. \n",
    "\n",
    "\n",
    "# Creating a character called Dora.\n",
    "dora = Character()   #This line creates the object.\n",
    "\n",
    "dora.name = \"Dora\"   \n",
    "dora.sex = \"Male\"\n",
    "dora.level = 6\n",
    "dora.max_health = 100\n",
    "dora.current_health = 75\n",
    "dora.current_speed = 50\n",
    "\n",
    "print(\"Before:\", dora.name, dora.level, dora.max_health, dora.current_health, dora.current_speed)  #etc.\n",
    "\n",
    "\n",
    "#Creating a character called Swiper. \n",
    "swiper = Character()\n",
    "\n",
    "swiper.name = \"Swiper\"\n",
    "swiper.sex = \"He's a cartoon monkey, IDK\"\n",
    "swiper.level = 3\n",
    "swiper.max_health = 150\n",
    "swiper.current_health = 100\n",
    "swiper.current_speed = 50\n",
    "\n",
    "print(\"Before:\", swiper.name, swiper.level, swiper.max_health, swiper.current_health, swiper.current_speed) #etc.\n",
    "\n",
    "\n",
    "# Activites (these would be triggred by events in the game.)\n",
    "dora.sprint()\n",
    "swiper.is_hurt()\n",
    "dora.is_hurt()\n",
    "swiper.levels_up()\n",
    "print(\"After Activity:\", dora.name, dora.level, dora.max_health, dora.current_health, dora.current_speed)\n",
    "print(\"After Activity:\", swiper.name, swiper.level, swiper.max_health, swiper.current_health, swiper.current_speed)"
   ]
  },
  {
   "cell_type": "markdown",
   "metadata": {},
   "source": [
    "**FROM** the code above we're able to see how we can create multiple characters and access thier attributes in a proper and oragnized manner. Unlike the example before.   \n",
    "\n",
    "_What is self?_\n",
    "* Think of `self` like the word 'my'. 'My' means something totaly different when said by a different person. Similarly, with classes the keyword `self` allows classes to say 'my' for a particular attribute defined in the class."
   ]
  },
  {
   "cell_type": "markdown",
   "metadata": {},
   "source": [
    "### Now, we'll create a class for a ball and use PyGame to visulaize it. \n",
    "There will be some code that is setting up PyGame, ignore that and read the code that is creating the ball.   \n",
    "Run all the cells below to get a good understanding of what's happening."
   ]
  },
  {
   "cell_type": "markdown",
   "metadata": {},
   "source": [
    "Setting up PyGame: **Ignore this code**"
   ]
  },
  {
   "cell_type": "code",
   "execution_count": 1,
   "metadata": {},
   "outputs": [],
   "source": [
    "import pygame\n",
    "pygame.init()\n",
    "\n",
    "gameDisplay = pygame.display.set_mode((800, 600))\n",
    "gameDisplay.fill([255, 255, 255])\n",
    "pygame.display.set_caption(\"Classes Tutorial\")\n",
    "clock = pygame.time.Clock()\n",
    "\n",
    "GREEN = [0, 200, 0]\n",
    "BLUE = [30, 30, 230]"
   ]
  },
  {
   "cell_type": "markdown",
   "metadata": {},
   "source": [
    "Creating the Ball Class: **Focus on this**"
   ]
  },
  {
   "cell_type": "code",
   "execution_count": 2,
   "metadata": {
    "collapsed": true
   },
   "outputs": [],
   "source": [
    "class Ball():\n",
    "    def __init__(self):\n",
    "        # Ball Pos\n",
    "        self.x = 0\n",
    "        self.y = 0 \n",
    " \n",
    "        # Ball Color \n",
    "        self.color = GREEN\n",
    "        \n",
    "    def move_rightdown(self):\n",
    "        self.x += 2\n",
    "        self.y += 2\n",
    "        \n",
    "    def move_leftup(self):\n",
    "        self.x -= 2\n",
    "        self.y -= 2\n",
    "        \n",
    "    def draw(self, screen):\n",
    "        pygame.draw.ellipse(screen, self.color, (self.x, self.y, 40, 40))  \n",
    "        # Draws a circle using PyGame. Ignore this. "
   ]
  },
  {
   "cell_type": "markdown",
   "metadata": {},
   "source": [
    "Creating a Ball Object and setting some atributes:\n",
    "Imagine this ball in the window as a Vector on a 2D cartesian plane."
   ]
  },
  {
   "cell_type": "code",
   "execution_count": 3,
   "metadata": {},
   "outputs": [],
   "source": [
    "theBall = Ball()\n",
    "theBall.x = 300  # Default Starting Position\n",
    "theBall.y = 400"
   ]
  },
  {
   "cell_type": "markdown",
   "metadata": {},
   "source": [
    "More PyGame Stuff. **Ignore this if you're not interested in PyGame**"
   ]
  },
  {
   "cell_type": "code",
   "execution_count": 4,
   "metadata": {},
   "outputs": [],
   "source": [
    "crashed = False\n",
    "while not crashed:  #Main Gameloop\n",
    "    for event in pygame.event.get():  # To be able to exit the main gameloop\n",
    "        if event.type == pygame.QUIT:\n",
    "            crashed = True \n",
    "            quit()    \n",
    "   \n",
    "    \n",
    "    # Mouse Properties\n",
    "    mouse_state = pygame.mouse.get_pressed()  # Button State\n",
    "\n",
    "    if mouse_state == (0, 0, 1):\n",
    "        theBall.move_rightdown()   \n",
    "    \n",
    "    if mouse_state == (1, 0, 0):\n",
    "        theBall.move_leftup()\n",
    "    \n",
    "    theBall.draw(gameDisplay)        \n",
    "    \n",
    "    clock.tick(60)\n",
    "    pygame.display.update()"
   ]
  }
 ],
 "metadata": {
  "kernelspec": {
   "display_name": "Python 3",
   "language": "python",
   "name": "python3"
  },
  "language_info": {
   "codemirror_mode": {
    "name": "ipython",
    "version": 3
   },
   "file_extension": ".py",
   "mimetype": "text/x-python",
   "name": "python",
   "nbconvert_exporter": "python",
   "pygments_lexer": "ipython3",
   "version": "3.6.1"
  }
 },
 "nbformat": 4,
 "nbformat_minor": 2
}
